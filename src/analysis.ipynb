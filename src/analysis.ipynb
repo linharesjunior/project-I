{
 "cells": [
  {
   "cell_type": "code",
   "execution_count": null,
   "id": "784918de",
   "metadata": {},
   "outputs": [],
   "source": [
    "import pandas as pd\n",
    "import matplotlib.pyplot as plt"
   ]
  },
  {
   "cell_type": "code",
   "execution_count": null,
   "id": "aa363e5c",
   "metadata": {},
   "outputs": [],
   "source": [
    "\"\"\" \n",
    "Geographical Analysis:\n",
    "What are the top 10 countries with the highest number of recorded shark attacks?\n",
    "\"\"\"\n",
    "country_counts = shark3['country'].value_counts()\n",
    "top_10_countries = country_counts.head(10)\n",
    "\n",
    "print(top_10_countries)"
   ]
  },
  {
   "cell_type": "code",
   "execution_count": null,
   "id": "bf3ae368",
   "metadata": {},
   "outputs": [],
   "source": []
  },
  {
   "cell_type": "code",
   "execution_count": null,
   "id": "d7eb2258",
   "metadata": {},
   "outputs": [],
   "source": []
  },
  {
   "cell_type": "code",
   "execution_count": null,
   "id": "a0ec0133",
   "metadata": {},
   "outputs": [],
   "source": [
    "\"\"\" \n",
    "Temporal Analysis:\n",
    "How has the frequency of shark attacks changed over the years?\n",
    "\"\"\"\n",
    "\n",
    "# Group the data by 'year' and count the number of shark attacks per year\n",
    "yearly_counts = shark3['year'].value_counts().sort_index()\n",
    "\n",
    "# Create a line plot to visualize the change over the years\n",
    "plt.figure(figsize=(12, 6))\n",
    "yearly_counts.plot(kind='line', marker='o')\n",
    "plt.title('Shark Attacks Over the Years')\n",
    "plt.xlabel('Year')\n",
    "plt.ylabel('Number of Shark Attacks')\n",
    "plt.grid(True)\n",
    "plt.show()"
   ]
  },
  {
   "cell_type": "code",
   "execution_count": null,
   "id": "6c496528",
   "metadata": {},
   "outputs": [],
   "source": [
    "\"\"\"\n",
    "Attack Types:\n",
    "What are the most common types of shark attacks (e.g., provoked, unprovoked, boating-related)?\n",
    "\"\"\"\n",
    "\n",
    "attack_type_counts = shark3['type'].value_counts()\n",
    "print(attack_type_counts)"
   ]
  },
  {
   "cell_type": "code",
   "execution_count": null,
   "id": "1687756b",
   "metadata": {},
   "outputs": [],
   "source": [
    "\"\"\"\n",
    "Victim Demographics:\n",
    "Is there a correlation between the age or gender of the victims and the severity of the shark attacks?\n",
    "\"\"\""
   ]
  },
  {
   "cell_type": "code",
   "execution_count": null,
   "id": "5d3cd2dd",
   "metadata": {},
   "outputs": [],
   "source": [
    "\"\"\"\n",
    "Shark Species:\n",
    "Are there specific shark species that are more frequently involved in attacks?\n",
    "\"\"\""
   ]
  },
  {
   "cell_type": "code",
   "execution_count": null,
   "id": "e760079a",
   "metadata": {},
   "outputs": [],
   "source": [
    "\"\"\"\n",
    "Fatalities:\n",
    "What percentage of shark attacks result in fatalities?\n",
    "Is there a correlation between the fatality rate and factors like the location of the attack,\n",
    "the type of attack, or the species of shark involved?\n",
    "\"\"\""
   ]
  }
 ],
 "metadata": {
  "kernelspec": {
   "display_name": "Python 3 (ipykernel)",
   "language": "python",
   "name": "python3"
  },
  "language_info": {
   "codemirror_mode": {
    "name": "ipython",
    "version": 3
   },
   "file_extension": ".py",
   "mimetype": "text/x-python",
   "name": "python",
   "nbconvert_exporter": "python",
   "pygments_lexer": "ipython3",
   "version": "3.11.5"
  }
 },
 "nbformat": 4,
 "nbformat_minor": 5
}
